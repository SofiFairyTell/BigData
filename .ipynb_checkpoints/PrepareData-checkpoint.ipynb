{
 "cells": [
  {
   "cell_type": "code",
   "execution_count": null,
   "id": "825ce642-45d3-4bb5-9874-81ab8bb76e3f",
   "metadata": {},
   "outputs": [],
   "source": [
    "import pandas as pd\n",
    "import numpy as np\n",
    "\n",
    "# Загрузите данные из файла\n",
    "df = pd.read_csv('ourPerson.csv', sep=';')\n",
    "\n",
    "# Генерация случайных значений в диапазоне [1, 4] для столбца \"JobInvolvement\"\n",
    "df['JobInvolvement'] = np.random.randint(1, 5, size=len(df))\n",
    "\n",
    "# Генерация случайных значений в диапазоне [1, 4] для столбца \"PerformanceRating\"\n",
    "df['PerformanceRating'] = np.random.randint(1, 5, size=len(df))\n",
    "\n",
    "# Сохраните обновленные данные в файл\n",
    "df.to_csv('ourPerson.csv', sep=';', index=False)"
   ]
  },
  {
   "cell_type": "code",
   "execution_count": null,
   "id": "81e8f871-6907-4cc6-b239-5e6ea1fbe348",
   "metadata": {},
   "outputs": [],
   "source": [
    "import pandas as pd\n",
    "import re\n",
    "\n",
    "# Загрузить данные из data.csv\n",
    "data_df = pd.read_csv('data.csv')\n",
    "\n",
    "# Извлечь Issue ID из столбца Задача\n",
    "data_df['Issue ID'] = data_df['Задача'].apply(lambda x: re.search(r'#(\\d+)', str(x)).group(1) if re.search(r'#(\\d+)', str(x)) else None)\n",
    "\n",
    "# Преобразовать Issue ID в числовой формат\n",
    "data_df['Issue ID'] = pd.to_numeric(data_df['Issue ID'], errors='coerce')\n",
    "\n",
    "# Загрузить данные из task_info.csv\n",
    "task_info_df = pd.read_csv('tasks_info.csv')\n",
    "\n",
    "# Преобразовать Issue ID в числовой формат\n",
    "task_info_df['Issue ID'] = pd.to_numeric(task_info_df['Issue ID'], errors='coerce')\n",
    "\n",
    "# Объединить данные по полю Issue ID\n",
    "merged_df = pd.merge(data_df, task_info_df[['Issue ID', 'Subtasks ID']], on='Issue ID', how='left')\n",
    "\n",
    "# Порядок столбцов\n",
    "desired_columns_order = [\n",
    "    'Проект', 'Дата', 'Issue ID', 'Задача', 'Subtasks ID', 'Деятельность', 'Направление', 'Дата начала',\n",
    "    'Приоритет', 'Готовность', 'Пользователь', 'EmployeeID', 'Комментарий', 'час(а,ов)', 'Статус',\n",
    "    'Количество дней', 'Плановый срок завершения', 'Дата завершения', 'Дата завершения (отклонение от плана)'\n",
    "]\n",
    "\n",
    "# Упорядочиваем столбцы\n",
    "merged_df = merged_df[desired_columns_order]\n",
    "# Сохранить результат в новый файл data_updated.csv\n",
    "merged_df.to_csv('data.csv', index=False)"
   ]
  },
  {
   "cell_type": "code",
   "execution_count": null,
   "id": "e5e214eb-6c70-4f33-bf8d-33971a3b7a20",
   "metadata": {},
   "outputs": [],
   "source": [
    "import pandas as pd\n",
    "\n",
    "# Загрузите данные из файла\n",
    "df = pd.read_csv('data.csv', sep=',')\n",
    "\n",
    "# Удалите столбцы JobInvolvement и PerformanceRating\n",
    "df = df.drop(['Связанные задачи'], axis=1)\n",
    "\n",
    "# Сохраните обновленные данные в файл\n",
    "df.to_csv('data.csv', sep=',', index=False)"
   ]
  },
  {
   "cell_type": "code",
   "execution_count": null,
   "id": "b1376558-3d5e-4ce8-b1a3-73a1b3c8173f",
   "metadata": {},
   "outputs": [],
   "source": [
    "import pandas as pd\n",
    "\n",
    "# Загрузите данные из файла\n",
    "df = pd.read_csv('data.csv', sep=',')\n",
    "\n",
    "# Переставьте столбец Направление рядом со столбцом Задача\n",
    "df = pd.concat([df['Деятельность'], df['Направление'], df.drop(['Деятельность', 'Направление'], axis=1)], axis=1)\n",
    "\n",
    "# Сохраните обновленные данные в файл\n",
    "df.to_csv('data.csv', sep=',', index=False)"
   ]
  },
  {
   "cell_type": "code",
   "execution_count": null,
   "id": "11c92716-8db8-4e9f-9b55-8e79f658708e",
   "metadata": {},
   "outputs": [],
   "source": [
    "import pandas as pd\n",
    "\n",
    "# Загрузите данные из файла\n",
    "df = pd.read_csv('data.csv', sep=',')\n",
    "\n",
    "# Удалите столбцы JobInvolvement и PerformanceRating\n",
    "df = df.drop(['JobInvolvement', 'PerformanceRating'], axis=1)\n",
    "\n",
    "# Переставьте столбец Направление рядом со столбцом Задача\n",
    "df = pd.concat([df['Задача'], df['Направление'], df.drop(['Задача', 'Направление'], axis=1)], axis=1)\n",
    "\n",
    "# Переставьте столбец EmployeeID рядом со столбцом Пользователь\n",
    "df = pd.concat([df['Пользователь'], df['EmployeeID'], df.drop(['Пользователь', 'EmployeeID'], axis=1)], axis=1)\n",
    "\n",
    "# Сохраните обновленные данные в файл\n",
    "df.to_csv('data.csv', sep=',', index=False)\n"
   ]
  }
 ],
 "metadata": {
  "kernelspec": {
   "display_name": "Python 3 (ipykernel)",
   "language": "python",
   "name": "python3"
  },
  "language_info": {
   "codemirror_mode": {
    "name": "ipython",
    "version": 3
   },
   "file_extension": ".py",
   "mimetype": "text/x-python",
   "name": "python",
   "nbconvert_exporter": "python",
   "pygments_lexer": "ipython3",
   "version": "3.12.0"
  }
 },
 "nbformat": 4,
 "nbformat_minor": 5
}
