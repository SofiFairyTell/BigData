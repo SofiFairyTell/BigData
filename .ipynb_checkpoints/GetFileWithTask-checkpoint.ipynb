{
 "cells": [
  {
   "cell_type": "code",
   "execution_count": null,
   "id": "b4ad08b9-6f78-4069-a17d-b9c7e6053da3",
   "metadata": {},
   "outputs": [],
   "source": [
    "!pip install python-redmine"
   ]
  },
  {
   "cell_type": "code",
   "execution_count": 1,
   "id": "31e4454b-5a5e-4b08-b03e-79784ca8b5a9",
   "metadata": {},
   "outputs": [
    {
     "name": "stdout",
     "output_type": "stream",
     "text": [
      "18: Реализация\n"
     ]
    }
   ],
   "source": [
    "from redminelib import Redmine\n",
    "\n",
    "# Замените 'https://your-redmine-instance.com' и 'your_api_key' на ваши реальные значения\n",
    "redmine = Redmine('https://dev.sciener.ru', key='de1b88738e2a19ec994caf6f88d4581d6edd16bb')\n",
    "\n",
    "# Замените issue_id на номер интересующей вас задачи\n",
    "issue_id = 11155\n",
    "\n",
    "# Получаем задачу по ID\n",
    "issue = redmine.issue.get(issue_id)\n",
    "\n",
    "# Выводим все доступные атрибуты\n",
    "#for attr in dir(issue):\n",
    "   # print(f\"{attr}: {getattr(issue, attr)}\")\n",
    "\n",
    "# Получаем все кастомные поля\n",
    "custom_fields = issue.custom_fields\n",
    "\n",
    "# Выводим содержимое кастомных полей\n",
    "for custom_field in custom_fields:\n",
    "    print(f\"{custom_field.id}: {custom_field.value}\")"
   ]
  },
  {
   "cell_type": "code",
   "execution_count": null,
   "id": "7f0a3a3d-2822-4850-bcef-db63e2a41526",
   "metadata": {},
   "outputs": [],
   "source": [
    "from redminelib import Redmine\n",
    "api_key = 'de1b88738e2a19ec994caf6f88d4581d6edd16bb'\n",
    "# Замените 'https://your-redmine-instance.com' и 'your_api_key' на ваши реальные значения\n",
    "redmine = Redmine('https://dev.sciener.ru', key=api_key)\n",
    "\n",
    "# Теперь можно получить проекты и вывести их информацию\n",
    "issues = redmine.issue.all()\n",
    "# Записываем информацию о задачах в CSV-файл\n",
    "\n",
    "# Записываем информацию о задачах и их подзадачах/связанных задачах в CSV-файл\n",
    "with open('tasks_info.csv', mode='w', newline='', encoding='utf-8') as csvfile:\n",
    "    # Задаем заголовки CSV-файла\n",
    "    fieldnames = ['Issue ID', 'Subject', 'Project', 'Subtasks', 'Subtasks ID', 'Stage']\n",
    "    writer = csv.DictWriter(csvfile, fieldnames=fieldnames)\n",
    "\n",
    "    # Записываем заголовки в CSV-файл\n",
    "    writer.writeheader()\n",
    "\n",
    "    # Записываем информацию о каждой задаче и её подзадачах/связанных задачах в CSV-файл\n",
    "    for issue in issues:\n",
    "        subtasks = ', '.join([subtask.subject for subtask in issue.children])\n",
    "        subtasksid = ', '.join([str(subtask.id) for subtask in issue.children]) if issue.children else ''\n",
    "        # Получаем все кастомные поля\n",
    "        try:\n",
    "        # Пытаемся получить значение атрибута custom_fields, если он доступен\n",
    "         custom_fields = issue.to_dict().get('custom_fields', [])\n",
    "        except AttributeError:\n",
    "        # Если атрибут недоступен, присваиваем пустой список\n",
    "          custom_fields = []\n",
    "        # Проверяем, есть ли кастомное поле с указанным идентификатором (предполагаем, что идентификатор поля - 18)\n",
    "        stage_field = next((cf for cf in custom_fields if cf.name == 'Этап'), None)\n",
    "\n",
    "        # Если поле существует, получаем его значение, в противном случае присваиваем None\n",
    "        stage_value = stage_field.value if stage_field else None\n",
    "        \n",
    "        writer.writerow({'Issue ID': issue.id, 'Subject': issue.subject, 'Project': issue.project.name, 'Subtasks': subtasks, 'Subtasks ID': subtasksid, 'Stage': stage_value})"
   ]
  },
  {
   "cell_type": "code",
   "execution_count": null,
   "id": "81f69b32-e6f3-48cf-8488-f17f009c14e5",
   "metadata": {},
   "outputs": [],
   "source": [
    "from redminelib import Redmine\n",
    "\n",
    "# Замените 'https://your-redmine-instance.com' и 'your_api_key' на ваши реальные значения\n",
    "redmine = Redmine('https://dev.sciener.ru', key='de1b88738e2a19ec994caf6f88d4581d6edd16bb')\n",
    "\n",
    "# Замените issue_id на номер интересующей вас задачи\n",
    "issue_id = 11155\n",
    "\n",
    "# Получаем задачу по ID\n",
    "issue = redmine.issue.get(issue_id)\n",
    "\n",
    "# Выводим все доступные атрибуты\n",
    "#for attr in dir(issue):\n",
    "   # print(f\"{attr}: {getattr(issue, attr)}\")\n",
    "\n",
    "# Получаем все кастомные поля\n",
    "custom_fields = issue.custom_fields\n",
    "\n",
    "# Выводим содержимое кастомных полей\n",
    "for custom_field in custom_fields:\n",
    "    print(f\"{custom_field.id}: {custom_field.value}\")"
   ]
  },
  {
   "cell_type": "code",
   "execution_count": null,
   "id": "a893dadc-3859-430c-b3e3-b0ccd3b9a97b",
   "metadata": {},
   "outputs": [],
   "source": [
    "from redminelib import Redmine\n",
    "\n",
    "api_key = 'de1b88738e2a19ec994caf6f88d4581d6edd16bb'\n",
    "# Замените 'https://your-redmine-instance.com' и 'your_api_key' на ваши реальные значения\n",
    "redmine = Redmine('https://dev.sciener.ru', key=api_key)\n",
    "\n",
    "# Замените issue_id на номер интересующей вас задачи\n",
    "issue_id = 11074\n",
    "\n",
    "# Получаем задачу по ID\n",
    "issue = redmine.issue.get(issue_id)\n",
    "\n",
    "# Выводим информацию о задаче\n",
    "print(f\"Issue ID: {issue.id}\")\n",
    "print(f\"Subject: {issue.subject}\")\n",
    "print(f\"Project: {issue.project.name}\")\n",
    "\n",
    "# Если есть подзадачи, выводим их информацию\n",
    "if issue.children:\n",
    "    print(\"\\nSubtasks:\")\n",
    "    for subtask in issue.children:\n",
    "        print(f\"  - Subtask ID: {subtask.id}\")\n",
    "        print(f\"    Subtask Subject: {subtask.subject}\")\n",
    "else:\n",
    "    print(\"No subtasks.\")"
   ]
  }
 ],
 "metadata": {
  "kernelspec": {
   "display_name": "Python 3 (ipykernel)",
   "language": "python",
   "name": "python3"
  },
  "language_info": {
   "codemirror_mode": {
    "name": "ipython",
    "version": 3
   },
   "file_extension": ".py",
   "mimetype": "text/x-python",
   "name": "python",
   "nbconvert_exporter": "python",
   "pygments_lexer": "ipython3",
   "version": "3.11.3"
  }
 },
 "nbformat": 4,
 "nbformat_minor": 5
}
