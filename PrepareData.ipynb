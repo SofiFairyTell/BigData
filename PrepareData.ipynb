{
 "cells": [
  {
   "cell_type": "code",
   "execution_count": null,
   "id": "825ce642-45d3-4bb5-9874-81ab8bb76e3f",
   "metadata": {},
   "outputs": [],
   "source": [
    "import pandas as pd\n",
    "import numpy as np\n",
    "\n",
    "# Загрузите данные из файла\n",
    "df = pd.read_csv('ourPerson.csv', sep=';')\n",
    "\n",
    "# Генерация случайных значений в диапазоне [1, 4] для столбца \"JobInvolvement\"\n",
    "df['JobInvolvement'] = np.random.randint(1, 5, size=len(df))\n",
    "\n",
    "# Генерация случайных значений в диапазоне [1, 4] для столбца \"PerformanceRating\"\n",
    "df['PerformanceRating'] = np.random.randint(1, 5, size=len(df))\n",
    "\n",
    "# Сохраните обновленные данные в файл\n",
    "df.to_csv('ourPerson.csv', sep=';', index=False)"
   ]
  }
 ],
 "metadata": {
  "kernelspec": {
   "display_name": "Python 3 (ipykernel)",
   "language": "python",
   "name": "python3"
  },
  "language_info": {
   "codemirror_mode": {
    "name": "ipython",
    "version": 3
   },
   "file_extension": ".py",
   "mimetype": "text/x-python",
   "name": "python",
   "nbconvert_exporter": "python",
   "pygments_lexer": "ipython3",
   "version": "3.12.0"
  }
 },
 "nbformat": 4,
 "nbformat_minor": 5
}
