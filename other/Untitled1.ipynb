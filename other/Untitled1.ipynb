{
 "cells": [
  {
   "cell_type": "code",
   "execution_count": 4,
   "id": "b6898394-43b0-48ec-9f49-0ee4862268eb",
   "metadata": {},
   "outputs": [
    {
     "name": "stdout",
     "output_type": "stream",
     "text": [
      "Ошибка при выполнении запроса: ('Connection aborted.', RemoteDisconnected('Remote end closed connection without response'))\n"
     ]
    }
   ],
   "source": [
    "import requests\n",
    "\n",
    "# URL-адрес для проверки\n",
    "url = \"https://the-eye.eu/public/Books/rpg.rem.uz/7th%20Sea%20Guides/01%20For%20The%20Player%20And%20GM/master_index.pdf\"\n",
    "\n",
    "# Попытка выполнения GET-запроса к указанной ссылке\n",
    "try:\n",
    "    response = requests.get(url)\n",
    "    \n",
    "    # Проверка статусного кода ответа\n",
    "    if response.status_code == 200:\n",
    "        print(\"Ссылка доступна.\")\n",
    "    else:\n",
    "        print(f\"Ссылка не доступна. Статусный код: {response.status_code}\")\n",
    "except requests.exceptions.RequestException as e:\n",
    "    print(f\"Ошибка при выполнении запроса: {e}\")\n"
   ]
  },
  {
   "cell_type": "code",
   "execution_count": null,
   "id": "74aafc8c-6b4c-402b-aad2-c9edb6d4cd56",
   "metadata": {},
   "outputs": [],
   "source": []
  }
 ],
 "metadata": {
  "kernelspec": {
   "display_name": "Python 3 (ipykernel)",
   "language": "python",
   "name": "python3"
  },
  "language_info": {
   "codemirror_mode": {
    "name": "ipython",
    "version": 3
   },
   "file_extension": ".py",
   "mimetype": "text/x-python",
   "name": "python",
   "nbconvert_exporter": "python",
   "pygments_lexer": "ipython3",
   "version": "3.12.0"
  }
 },
 "nbformat": 4,
 "nbformat_minor": 5
}
